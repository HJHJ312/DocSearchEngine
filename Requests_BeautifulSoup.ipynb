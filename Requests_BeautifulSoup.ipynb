{
 "cells": [
  {
   "cell_type": "markdown",
   "id": "2e91f457",
   "metadata": {},
   "source": [
    "## [requests](https://docs.python-requests.org/en/latest/) - HTTP for Humans\n",
    "\n",
    "Die `requests` library ermöglicht die Verbindung zu Webservern und deren Inhalt.\n",
    "Der [Quickstart Guide](https://docs.python-requests.org/en/latest/user/quickstart/)\n",
    "enthält Beispiele, wie diese genutzt werden kann und was damit gemacht werden kann."
   ]
  },
  {
   "cell_type": "code",
   "execution_count": null,
   "id": "06657094",
   "metadata": {},
   "outputs": [],
   "source": [
    "import requests\n",
    "\n",
    "r = requests.get(\"https://en.wikipedia.org/wiki/Python_(programming_language)\")\n",
    "print(\n",
    "    f\"The word 'Python' is used {r.text.count('Python')} times in its Wikipedia entry!\"\n",
    ")"
   ]
  },
  {
   "cell_type": "markdown",
   "id": "1c94efef",
   "metadata": {},
   "source": [
    "## [BeautifulSoup](https://www.crummy.com/software/BeautifulSoup/bs4/doc/) - Analyzing Webpages\n",
    "\n",
    "BeautifulSoup ist eine library, die requests (siehe oben) perfekt ergänzt. Während requests es möglich macht, die Websites herunterzuladen, unterstützt BeautifulSoup die Analyse dieser Websites. (Der Name *BeautifulSoup* geht zurück auf syntaktisch inkorrekte Seiten, die nur eine \"soup of tags\" enthalten). \n",
    "\n",
    "In der folgenden Zelle wird die Website der Zeitung [The Guardian](https://www.theguardian.com) zuerst herunter geladen mit `request.get()`. Der Inhalt wird dann analysiert mit `BeautifulSoup()`. Mit der Methode `.find_all()` werden alle Überschriften des Typs `h3` gefunden und gedruckt."
   ]
  },
  {
   "cell_type": "code",
   "execution_count": null,
   "id": "03ddd4d5",
   "metadata": {},
   "outputs": [],
   "source": [
    "import requests\n",
    "from bs4 import BeautifulSoup\n",
    "\n",
    "r = requests.get(\"https://www.theguardian.com\")\n",
    "soup = BeautifulSoup(r.text)\n",
    "\n",
    "for title in soup.find_all(\"h3\"):\n",
    "    print(title.text)"
   ]
  },
  {
   "cell_type": "code",
   "execution_count": null,
   "id": "610c0551",
   "metadata": {},
   "outputs": [],
   "source": []
  }
 ],
 "metadata": {
  "kernelspec": {
   "display_name": "Python 3 (ipykernel)",
   "language": "python",
   "name": "python3"
  },
  "language_info": {
   "codemirror_mode": {
    "name": "ipython",
    "version": 3
   },
   "file_extension": ".py",
   "mimetype": "text/x-python",
   "name": "python",
   "nbconvert_exporter": "python",
   "pygments_lexer": "ipython3",
   "version": "3.9.11"
  }
 },
 "nbformat": 4,
 "nbformat_minor": 5
}
